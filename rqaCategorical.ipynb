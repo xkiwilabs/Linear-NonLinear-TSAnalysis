{
 "cells": [
  {
   "cell_type": "markdown",
   "metadata": {},
   "source": [
    "## Categorical RQA"
   ]
  },
  {
   "cell_type": "markdown",
   "metadata": {},
   "source": [
    "Categorical RQA (catRQA) is used to examine the dynamics of discrete behaviour sequences, such as song lyrics (lyricsA.txt) or eye movements between different locations (eyemovs_1.txt). Recurrence analysis allows us to visualise the dynamics of a behaviour, by plotting 'recurrent' states on a 2D recurrence plot. Here, an integer number sequence is mapped to the orthogonal axis 𝑥𝑖 = 1...𝑛 and 𝑦𝑗 = 1...𝑛, of the 2-dimensional plot, and the states 𝑥𝑖 and 𝑦𝑗 that reoccur are plotted (represented by blue points in the recurrence plot). From the plot, one can determine the degree of repetition, the length of repetitive sequences, and other important patterns in the data. RQA provides measures to quantify these properties, such as:\n",
    "\n",
    "- Recurrence Rate (%REC): The percentage of recurrent points in the plot, which indicates how often states reoccur.\n",
    "- Determinism (%DET): The percentage of recurrent points that form diagonal lines of at least a given length (e.g., 2 points), indicating patterns that repeat in the same order.\n",
    "- Maxline: The length of the longest diagonal sequence of recurrent points.\n",
    "- Meanline: The average length of diagonal lines in the plot, giving insight into typical repeating sequences.\n",
    "- Entropy (ENT): The Shannon entropy of the distribution of diagonal line lengths, which measures the complexity of recurrent patterns.\n",
    "- Laminarity (LAM): The percentage of recurrent points forming vertical lines, which can reflect how states are trapped for extended periods.\n",
    "\n",
    "#### Parameters for Running Categorical RQA\n",
    "\n",
    "To run categorical RQA, we need to select three parameters:\n",
    "\n",
    "- Time delay - This represents the interval between samples required to unfold the temporal structure of a system's trajectory. The appropriate delay helps to reconstruct the system’s dynamics in the phase space. In categorical RQA, this is typically set to 1.\n",
    "- Embedding dimension - This is the number of dimensions needed to recover the system's phase space. For categorical data, this is typically set to 1.\n",
    "- Radius - This defines how close two states must be to be considered recurrent. In catRQA, the radius is set to zero or a very small value, ensuring that only exact matches between categorical states are considered recurrent."
   ]
  },
  {
   "cell_type": "markdown",
   "metadata": {},
   "source": [
    "#### Let's Practice Running RQA on Categorical Data\n",
    "\n",
    "Before we begin, we need to import and load various packages and utilities. These will allow us to import the data, manipulate it, run the RQA analysis, and create visualizations to explore our results.\n",
    "\n",
    "The code below will do all the setup for you. Simply click the \"play\" button on the left to run the code, and we'll be ready to start our analysis. "
   ]
  },
  {
   "cell_type": "code",
   "execution_count": null,
   "metadata": {},
   "outputs": [],
   "source": [
    "import os\n",
    "import pandas as pd\n",
    "from utils.rqa_utils import perform_rqa\n",
    "from utils.plot_utils import plot_ts_and_rqa"
   ]
  },
  {
   "cell_type": "markdown",
   "metadata": {},
   "source": [
    "Now that all the utilities are loaded, it's time to apply RQA to some real data—in this case, song lyrics (lyricsA.txt).\n",
    "\n",
    "First, we need to represent the lyrics as a sequence of categorical integers. This means each word is assigned a unique number, starting from the first word and moving forward (e.g., ‘I’ = 1, ‘need’ = 2, ‘to’ = 3, etc.). For the files we're using, this encoding has already been done for you.\n",
    "\n",
    "With our data prepared, we can proceed with running the RQA analysis. Just click the \"play\" button below to perform the analysis and generate the visualisations."
   ]
  },
  {
   "cell_type": "code",
   "execution_count": null,
   "metadata": {},
   "outputs": [],
   "source": [
    "# First set the directory path for the data\n",
    "data_directory = \"data/rqaCategorical/\"\n",
    "\n",
    "# Then decide whether you'd like to save the plots \n",
    "# These are saved in \"images/rqa\"\n",
    "save_image = True\n",
    "\n",
    "# Set the file name for the data\n",
    "file_name = \"lyricsA.txt\"\n",
    "file_path = os.path.join(data_directory, file_name)\n",
    "\n",
    "# Set RQA parameters\n",
    "rqa_params = {\n",
    "    'delay': 1,\n",
    "    'embedding_dimension': 1,\n",
    "    'radius': 0.0001,\n",
    "    'minLine': 2,\n",
    "    'getRP': True\n",
    "}\n",
    "\n",
    "# Check whether the file containing the data exists\n",
    "if os.path.exists(file_path):\n",
    "    print(f'Loading file: {file_name}')\n",
    "\n",
    "    # Load the file into a DataFrame\n",
    "    data = pd.read_csv(file_path, header=None)\n",
    "\n",
    "    # Assume the data is a single unnamed column\n",
    "    numerical_data = data.iloc[:, 0].to_frame()\n",
    "\n",
    "    # Perform RQA using the perform_rqa function from rqa_utils\n",
    "    rqa_results, rp_results = perform_rqa(numerical_data, **rqa_params)\n",
    "\n",
    "    # Create RQA metrics dictionary\n",
    "    for column, result in rqa_results.items():\n",
    "        rqa_metrics = {\n",
    "            'Recurrence Rate': result.recurrence_rate,\n",
    "            'Determinism': result.determinism,\n",
    "            'Maxline': result.longest_diagonal_line,\n",
    "            'Meanline': result.average_diagonal_line,\n",
    "            'Entropy': result.entropy_diagonal_lines,\n",
    "            'Laminarity': result.laminarity,\n",
    "        }\n",
    "\n",
    "    # Plot time series and recurrence plot side-by-side\n",
    "    plot_ts_and_rqa(numerical_data[0].values, rp_results[0].recurrence_matrix, rqa_metrics, save_image, f'images/rqa/{file_name}_combined_plot.png')\n",
    "    \n",
    "    print('RQA analysis and plotting completed successfully!')\n",
    "else:\n",
    "    print(f'File {file_name} not found in directory {data_directory}')"
   ]
  },
  {
   "cell_type": "markdown",
   "metadata": {},
   "source": [
    "#### Interpreting the Results\n",
    "\n",
    "If your code ran successfully, you should see the following RQA metrics for the song:\n",
    "\n",
    "- %REC: 6.8% - This value tells us how often the words in the lyrics repeat, highlighting the overall recurrence in the song.\n",
    "- %DET: 22.2% - This represents the proportion of recurrence points that form diagonal lines, indicating predictable patterns in word usage.\n",
    "- Maxline: 15 - This metric identifies the longest sequence of repetitive word usage, helping us understand the longest repeating phrases in the song.\n",
    "- Meanline: 2.6 - This is the average length of those repeating patterns, giving us insight into how long typical repeated phrases are.\n",
    "\n",
    "Now, let's see how these metrics compare to a different song. Click \"play\" on the code chunk below to run the RQA on another set of lyrics and observe the differences."
   ]
  },
  {
   "cell_type": "code",
   "execution_count": null,
   "metadata": {},
   "outputs": [],
   "source": [
    "# First set the directory path for the data\n",
    "data_directory = \"data/rqaCategorical/\"\n",
    "\n",
    "# Then decide whether you'd like to save the plots \n",
    "# These are saved in \"images/rqa\"\n",
    "save_image = True\n",
    "\n",
    "# Set the file names for the data\n",
    "file_names = [\"lyricsA.txt\", \"lyricsB.txt\"]\n",
    "\n",
    "# Set RQA parameters\n",
    "rqa_params = {\n",
    "    'delay': 1,\n",
    "    'embedding_dimension': 1,\n",
    "    'radius': 0.0001,\n",
    "    'minLine': 2,\n",
    "    'getRP': True\n",
    "}\n",
    "\n",
    "# Loop through each file and perform RQA\n",
    "for file_name in file_names:\n",
    "    file_path = os.path.join(data_directory, file_name)\n",
    "\n",
    "    # Check whether the file containing the categorical data exists\n",
    "    if os.path.exists(file_path):\n",
    "        print(f'Loading file: {file_name}')\n",
    "\n",
    "        # Load the file into a DataFrame\n",
    "        data = pd.read_csv(file_path, header=None)\n",
    "\n",
    "        # Assume the data is a single unnamed column\n",
    "        numerical_data = data.iloc[:, 0].to_frame()\n",
    "\n",
    "        # Perform RQA using the perform_rqa function from rqa_utils\n",
    "        rqa_results, rp_results = perform_rqa(numerical_data, **rqa_params)\n",
    "\n",
    "        # Create RQA metrics dictionary\n",
    "        for column, result in rqa_results.items():\n",
    "            rqa_metrics = {\n",
    "                'Recurrence Rate': result.recurrence_rate,\n",
    "                'Determinism': result.determinism,\n",
    "                'Maxline': result.longest_diagonal_line,\n",
    "                'Meanline': result.average_diagonal_line,\n",
    "                'Entropy': result.entropy_diagonal_lines,\n",
    "                'Laminarity': result.laminarity,\n",
    "            }\n",
    "\n",
    "        # Plot time series and recurrence plot side-by-side\n",
    "        plot_ts_and_rqa(numerical_data[0].values, rp_results[0].recurrence_matrix, rqa_metrics, save_image, f'images/rqa/{file_name}_combined_plot.png')\n",
    "        \n",
    "        print('RQA analysis and plotting completed successfully!')\n",
    "    else:\n",
    "        print(f'File {file_name} not found in directory {data_directory}')"
   ]
  },
  {
   "cell_type": "markdown",
   "metadata": {},
   "source": [
    "#### Comparing the Results\n",
    "\n",
    "If you examine the recurrence plots (RPs) and the resulting RQA metrics, you'll notice that the second song shows more recurrent activity compared to the first. There are more blue lines in the second plot, and the %REC (recurrence rate) and %DET (determinism) values are higher, indicating greater overall repetition and more extended sequences of repeating phrases."
   ]
  },
  {
   "cell_type": "markdown",
   "metadata": {},
   "source": [
    "#### Going Further\n",
    "\n",
    "To expand your understanding of categorical RQA, you can try the following:\n",
    "\n",
    "1. Analyse other time series: Repeat the analyses above with other types of categorical data such as eye movements (e.g., eyemoves_1.txt) or emotion data (e.g., emotion1-all-a.txt). \n",
    "2. Experiment with other parameters: Although most nominal or categorical data uses the following parameters - delay = 1, embedding dimension = 1, radius = 0 (or .0001), try changing these to see how differences in the parameters affect the recurrence plots and metrics."
   ]
  }
 ],
 "metadata": {
  "kernelspec": {
   "display_name": "matb",
   "language": "python",
   "name": "python3"
  },
  "language_info": {
   "codemirror_mode": {
    "name": "ipython",
    "version": 3
   },
   "file_extension": ".py",
   "mimetype": "text/x-python",
   "name": "python",
   "nbconvert_exporter": "python",
   "pygments_lexer": "ipython3",
   "version": "3.11.9"
  }
 },
 "nbformat": 4,
 "nbformat_minor": 2
}
