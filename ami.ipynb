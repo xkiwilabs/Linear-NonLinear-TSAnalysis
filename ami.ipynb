{
 "cells": [
  {
   "cell_type": "markdown",
   "metadata": {},
   "source": [
    "## Average Mutual Information\n",
    "---"
   ]
  },
  {
   "cell_type": "markdown",
   "metadata": {},
   "source": [
    "In order to conduct [Continuous RQA](rqaContinuous.ipynb) or [CRQA](crqaContinuous.ipynb), we first need to determine how many dimensions best capture the dynamics in a measured behavioral time series. To do this, researchers use phase space reconstruction (PSR). Here, the time series is embedded within a phase space that is (re)constructed to be isomorphic, or at least similar, to the system’s real state space. To perform the reconstruction, two parameters are needed: the embedding dimension and the time lag."
   ]
  },
  {
   "cell_type": "markdown",
   "metadata": {},
   "source": [
    "#### Estimating the Time Lag\n",
    "\n",
    "The first step of PSR is to determine the time delay or sample interval required to unfold the temporal structure of a system’s phase space trajectory. This is typically calculated using an average mutual information (AMI) analysis (although auto-correlation can also be used). AMI identifies the optimal time delay for reconstructing a system’s phase space by measuring the amount of shared information between a time series and a delayed version of itself across n time delays. A suitable delay is found when the mutual information first reaches a minimum. "
   ]
  },
  {
   "cell_type": "markdown",
   "metadata": {},
   "source": [
    "#### Let's Practice AMI\n",
    "\n",
    "Before we begin, we need to import and load various packages and utilities. These will allow us to import the data, manipulate it, run AMI, and create visualizations to explore our results.\n",
    "\n",
    "The code below will do all the setup for you. Simply click the \"play\" button on the left to run the code, and we'll be ready to start our analysis. "
   ]
  },
  {
   "cell_type": "code",
   "execution_count": 1,
   "metadata": {},
   "outputs": [],
   "source": [
    "import os\n",
    "import pandas as pd\n",
    "from utils.ami_utils import ami, cross_ami, plot_ami, plot_cross_ami"
   ]
  },
  {
   "cell_type": "markdown",
   "metadata": {},
   "source": [
    "Now that all the utilities are loaded, it's time to apply AMI to some real data — in this case, positional data from an individual [swinging a pendulum](data/rqaContinuous/pendulums.txt). \n",
    "\n",
    "Click the \"play\" button below to perform the analysis and generate the visualisations."
   ]
  },
  {
   "cell_type": "code",
   "execution_count": null,
   "metadata": {},
   "outputs": [],
   "source": [
    "# First set the directory path for the data\n",
    "data_directory = \"data/crqaContinuous/\"\n",
    "\n",
    "# Then decide whether you'd like to save the plots \n",
    "# These are saved in \"images/rqa\"\n",
    "save_image = True\n",
    "\n",
    "# Set the file name for the data\n",
    "file_name = \"pendulums.txt\"\n",
    "file_path = os.path.join(data_directory, file_name)\n",
    "\n",
    "# Check whether the file containing the data exists\n",
    "if os.path.exists(file_path):\n",
    "    print(f'Loading file: {file_name}')\n",
    "\n",
    "    # Load the CSV file into a DataFrame\n",
    "    data = pd.read_csv(file_path, header=None, sep='\\t')\n",
    "\n",
    "    # Select first column in data to analyse\n",
    "    continuous_data = data.iloc[:, 0]\n",
    "\n",
    "    # Compute AMI\n",
    "    ami_values = ami(continuous_data, 0, 200)\n",
    "\n",
    "    # Plot AMI\n",
    "    plot_ami(ami_values, save_image, f'images/ami/{file_name}_ami_plot.png')\n",
    "\n",
    "    print('AMI and plotting completed successfully!')\n",
    "else:\n",
    "    print(f'File {file_name} not found in directory {data_directory}')\n"
   ]
  },
  {
   "cell_type": "markdown",
   "metadata": {},
   "source": [
    "#### Interpreting the Results\n",
    "\n",
    "If your code ran successfully, you should see a graph with distinct peaks and valleys. As noted above, a suitable delay is found when the mutual information first reaches a minimum. Here, that appears to be around 15. "
   ]
  },
  {
   "cell_type": "markdown",
   "metadata": {},
   "source": [
    "#### Periodic vs. Other Data Types\n",
    "\n",
    "Sometimes AMI does not give clear peaks and valleys. This can make it more difficult to select a delay. Let's look at a different time series: [acceleration data](data/rqaContinuous/walkerAfriend.txt) from a person walking. This data is also used in the [Continuous RQA](rqaContinuous.ipynb) section. As such, this code will allow you to see how we selected the delay for RQA.\n",
    "\n",
    "Click the \"play\" button below to perform the analysis and generate the visualisations."
   ]
  },
  {
   "cell_type": "code",
   "execution_count": 4,
   "metadata": {},
   "outputs": [
    {
     "name": "stdout",
     "output_type": "stream",
     "text": [
      "Loading file: walkersABfriend.txt\n"
     ]
    },
    {
     "name": "stderr",
     "output_type": "stream",
     "text": [
      "Processing AMI: 100%|██████████| 201/201 [00:02<00:00, 94.67it/s]\n"
     ]
    },
    {
     "data": {
      "image/png": "[encoded data removed]",
      "text/plain": [
       "<Figure size 1200x500 with 1 Axes>"
      ]
     },
     "metadata": {},
     "output_type": "display_data"
    },
    {
     "data": {
      "text/plain": [
       "<Figure size 1200x500 with 0 Axes>"
      ]
     },
     "metadata": {},
     "output_type": "display_data"
    },
    {
     "name": "stdout",
     "output_type": "stream",
     "text": [
      "AMI and plotting completed successfully!\n"
     ]
    }
   ],
   "source": [
    "# First set the directory path for the data\n",
    "data_directory = \"data/crqaContinuous/\"\n",
    "\n",
    "# Then decide whether you'd like to save the plots \n",
    "# These are saved in \"images/rqa\"\n",
    "save_image = True\n",
    "\n",
    "# Set the file name for the data\n",
    "file_name = \"walkersABfriend.txt\"\n",
    "file_path = os.path.join(data_directory, file_name)\n",
    "\n",
    "# Check whether the file containing the data exists\n",
    "if os.path.exists(file_path):\n",
    "    print(f'Loading file: {file_name}')\n",
    "\n",
    "    # Load the CSV file into a DataFrame\n",
    "    data = pd.read_csv(file_path, header=None, sep='\\t')\n",
    "\n",
    "    # Select first column in data to analyse\n",
    "    continuous_data = data.iloc[:, 0]\n",
    "\n",
    "    # Compute AMI\n",
    "    ami_values = ami(continuous_data, 0, 200)\n",
    "\n",
    "    # Plot AMI\n",
    "    plot_ami(ami_values, save_image, f'images/ami/{file_name}_ami_plot.png')\n",
    "\n",
    "    print('AMI and plotting completed successfully!')\n",
    "else:\n",
    "    print(f'File {file_name} not found in directory {data_directory}')\n"
   ]
  },
  {
   "cell_type": "markdown",
   "metadata": {},
   "source": [
    "Here best practice suggests selecting the point at which the graph levels out. This looks to be around 5."
   ]
  },
  {
   "cell_type": "markdown",
   "metadata": {},
   "source": [
    "#### Cross AMI\n",
    "\n",
    "It is also possible to conduct Cross Average Mutual Information (Cross AMI) to investigate the relationship between two different time series. Cross AMI measures the amount of shared information between two different signals at varying time lags. \n",
    "\n",
    "Let's run cross AMI using pendulum swinging data from two participants. Click the \"play\" button below to perform the analysis and generate the visualisations. "
   ]
  },
  {
   "cell_type": "code",
   "execution_count": null,
   "metadata": {},
   "outputs": [],
   "source": [
    "# First set the directory path for the data\n",
    "data_directory = \"data/crqaContinuous/\"\n",
    "\n",
    "# Then decide whether you'd like to save the plots \n",
    "# These are saved in \"images/rqa\"\n",
    "save_image = True\n",
    "\n",
    "# Set the file name for the data\n",
    "file_name = \"pendulums.txt\"\n",
    "file_path = os.path.join(data_directory, file_name)\n",
    "\n",
    "# Check whether the file containing the data exists\n",
    "if os.path.exists(file_path):\n",
    "    print(f'Loading file: {file_name}')\n",
    "\n",
    "    # Load the CSV file into a DataFrame\n",
    "    data = pd.read_csv(file_path, header=None, sep='\\t')\n",
    "\n",
    "    # Select columns in data to analyse\n",
    "    ts1 = data.iloc[:, 0]\n",
    "    ts2 = data.iloc[:, 1]\n",
    "\n",
    "    # Compute AMI\n",
    "    cross_ami_values = cross_ami(ts1, ts2, 0, 200)\n",
    "\n",
    "    # Plot AMI\n",
    "    plot_cross_ami(cross_ami_values)\n",
    "\n",
    "    print('AMI and plotting completed successfully!')\n",
    "else:\n",
    "    print(f'File {file_name} not found in directory {data_directory}')\n"
   ]
  },
  {
   "cell_type": "markdown",
   "metadata": {},
   "source": [
    "#### Going Further\n",
    "\n",
    "Once you have selected an appropriate delay, you can then determine how many dimensions are needed to recover the system's phase space (i.e., the embedding dimension). This can be determined using [false nearest neighbors (FNN) analysis](fnn.ipynb). Head to the FNN section of this tutorial to learn how to select the appropriate embedding dimension. "
   ]
  }
 ],
 "metadata": {
  "kernelspec": {
   "display_name": "lnltsanalysis",
   "language": "python",
   "name": "python3"
  },
  "language_info": {
   "codemirror_mode": {
    "name": "ipython",
    "version": 3
   },
   "file_extension": ".py",
   "mimetype": "text/x-python",
   "name": "python",
   "nbconvert_exporter": "python",
   "pygments_lexer": "ipython3",
   "version": "3.11.9"
  }
 },
 "nbformat": 4,
 "nbformat_minor": 2
}
