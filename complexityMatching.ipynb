{
 "cells": [
  {
   "cell_type": "markdown",
   "metadata": {},
   "source": [
    "## Complexity Matching"
   ]
  },
  {
   "cell_type": "markdown",
   "metadata": {},
   "source": [
    "In other sections of this tutorial, like [DFA](dfaAnalysis.ipynb) and [Windowed DFA](dfaWindowed.ipynb), we learnt how to run DFA. Notably, fractal scaling in human behavior tends to match that of an interacting system. This phenomenon, termed complexity matching, can index the convergence of behaviour at a global (i.e., non-local) level. \n",
    "\n",
    "There are several approaches to computing complexity matching:\n",
    "- Correlating 𝛼 across the sample: Traditionally, a correlation between the overall 𝛼 values within a sample is used to calculate complexity matching. \n",
    "- Difference in 𝛼 values: Some work has quantified complexity matching as the absolute difference between two 𝛼 values, providing an intuitive index of matching.\n",
    "- Cross correlation using windowed DFA 𝛼 values: More recently, researchers have employed cross-correlation analysis using 𝛼 values from [Windowed DFA](dfaWindowed.ipynb).\n",
    "- Detrended cross correlation anaylsis (DCCA): This is a bivariate generalisation of DFA that is designed to detect power-law cross-correlations, in turn quantifying complexity matching. \n",
    "\n",
    "In this section, we'll practice performing the first three.\n",
    "\n",
    "#### Let's Practice Running Complexity Matching\n",
    "\n",
    "Before we begin, we need to import and load various packages and utilities. These will allow us to import the data, manipulate it, run our analyses, and create visualisations to explore our results.\n",
    "\n",
    "The code below will do all the setup for you. Simply click the \"play\" button on the left to run the code, and we'll be ready to start our analysis.\n"
   ]
  },
  {
   "cell_type": "code",
   "execution_count": 1,
   "metadata": {},
   "outputs": [],
   "source": [
    "import os\n",
    "import pandas as pd\n",
    "import numpy as np\n",
    "from utils.plot_utils import plot_cm_cross_cor"
   ]
  },
  {
   "cell_type": "markdown",
   "metadata": {},
   "source": [
    "Now that all the utilities are loaded, it's time to capture complexity matching using some real data — in this case, [postural sway](data/dfa/postureA.txt) from individuals engaged in conversation. This data was also used previously in the [DFA](dfaAnalysis.ipynb) and [windowed DFA](dfaWindowed.ipynb) sections.\n",
    "\n",
    "#### Running a Correlation\n",
    "\n",
    "Let's start by running a correlation between 𝛼 values across a sample. In this dataset, participants' postural sway was captured while they were sitting versus standing. Let's compare correlation coefficients (i.e., complexity matching) between sitting and standing, to see whether individuals exhibited higher levels of complexity matching in one condition over the other.\n",
    "\n",
    "Click the \"play\" button below to perform the analysis and generate the visualisations."
   ]
  },
  {
   "cell_type": "code",
   "execution_count": 3,
   "metadata": {},
   "outputs": [
    {
     "name": "stdout",
     "output_type": "stream",
     "text": [
      "Loading file: posture_dataset.txt\n",
      "Correlation between participant 1 and participant 2 for condition 0: 0.08\n",
      "Correlation between participant 1 and participant 2 for condition 1: 0.28\n",
      "Correlation analysis completed successfully!\n"
     ]
    }
   ],
   "source": [
    "# First set the directory path for the data\n",
    "data_directory = \"data/cm/\"\n",
    "\n",
    "# Set the file name for the data\n",
    "file_name = \"posture_dataset.txt\"\n",
    "file_path = os.path.join(data_directory, file_name)\n",
    "\n",
    "# Check whether the file containing the data exists\n",
    "if os.path.exists(file_path):\n",
    "    print(f'Loading file: {file_name}')\n",
    "\n",
    "    # Load the CSV file into a DataFrame\n",
    "    data = pd.read_csv(file_path, sep='\\t')\n",
    "\n",
    "    # Group by 'cond' and run correlation between participant 1 ('alpha_P1') and participant 2 ('alpha_P2')\n",
    "    grouped = data.groupby('cond')\n",
    "    correlations = {}\n",
    "    for cond, group in grouped:\n",
    "        correlation = group['alpha_p1'].corr(group['alpha_p2'])\n",
    "        correlations[cond] = round(correlation, 2)\n",
    "        print(f'Correlation between participant 1 and participant 2 for condition {cond}: {correlations[cond]}')\n",
    "\n",
    "    print('Correlation analysis completed successfully!')\n",
    "else:\n",
    "    print(f'File {file_name} not found in directory {data_directory}')"
   ]
  },
  {
   "cell_type": "markdown",
   "metadata": {},
   "source": [
    "##### Interpreting the Results\n",
    "\n",
    "If your code ran successfully, you should see the following correlation coefficients for each group:\n",
    "\n",
    "- Sitting (i.e., condition 0): r = .08\n",
    "- Standing (i.e., condition 1): r = .28\n",
    "\n",
    "As we can see, individuals exhibited higher levels of complexity matching when standing as opposed to sitting.\n",
    "\n",
    "#### Computing a Difference Score\n",
    "\n",
    "Let's compare this to taking a difference score between 𝛼 values:"
   ]
  },
  {
   "cell_type": "code",
   "execution_count": 6,
   "metadata": {},
   "outputs": [
    {
     "name": "stdout",
     "output_type": "stream",
     "text": [
      "Loading file: posture_dataset.txt\n",
      "Mean absolute difference between participant 1 and participant 2 for condition 0: 0.075\n",
      "Mean absolute difference between participant 1 and participant 2 for condition 1: 0.079\n",
      "Difference score analysis completed successfully!\n"
     ]
    }
   ],
   "source": [
    "# First set the directory path for the data\n",
    "data_directory = \"data/cm/\"\n",
    "\n",
    "# Set the file name for the data\n",
    "file_name = \"posture_dataset.txt\"\n",
    "file_path = os.path.join(data_directory, file_name)\n",
    "\n",
    "# Check whether the file containing the data exists\n",
    "if os.path.exists(file_path):\n",
    "    print(f'Loading file: {file_name}')\n",
    "\n",
    "    # Load the CSV file into a DataFrame\n",
    "    data = pd.read_csv(file_path, sep='\\t')\n",
    "\n",
    "    # Group by 'cond' and calculate the absolute difference between 'alpha_p1' and 'alpha_p2'\n",
    "    data['alpha_diff'] = (data['alpha_p1'] - data['alpha_p2']).abs()\n",
    "    grouped = data.groupby('cond')\n",
    "    \n",
    "    # Compare the absolute differences across conditions\n",
    "    for cond, group in grouped:\n",
    "        mean_diff = round(group['alpha_diff'].mean(), 3)\n",
    "        print(f'Mean absolute difference between participant 1 and participant 2 for condition {cond}: {mean_diff}')\n",
    "\n",
    "    print('Difference score analysis completed successfully!')\n",
    "else:\n",
    "    print(f'File {file_name} not found in directory {data_directory}')"
   ]
  },
  {
   "cell_type": "markdown",
   "metadata": {},
   "source": [
    "##### Interpreting the Results\n",
    "\n",
    "If your code ran successfully, you should see the following difference scores for each group:\n",
    "\n",
    "- Sitting (i.e., condition 0): .075\n",
    "- Standing (i.e., condition 1): .079\n",
    "\n",
    "Here we can see that the absolute difference in 𝛼 values was actually smaller for individuals when they were sitting versus standing. This likely reflects the fact that their posture was already constrained by sitting, moving their 𝛼 closer together as a function of the physical constraints.\n",
    "\n",
    "#### Running Cross-Correlation\n",
    "\n",
    "Now let's run a cross-correlation on [windowed DFA](dfaWindowed.ipynb) data from the same sample:"
   ]
  },
  {
   "cell_type": "code",
   "execution_count": 7,
   "metadata": {},
   "outputs": [
    {
     "name": "stdout",
     "output_type": "stream",
     "text": [
      "Loading file: posture_dataset.txt\n"
     ]
    },
    {
     "data": {
      "image/png": "[encoded data removed]",
      "text/plain": [
       "<Figure size 1000x600 with 1 Axes>"
      ]
     },
     "metadata": {},
     "output_type": "display_data"
    },
    {
     "name": "stdout",
     "output_type": "stream",
     "text": [
      "Cross-correlation analysis at lag 0 and box plot completed successfully!\n"
     ]
    }
   ],
   "source": [
    "# First set the directory path for the data\n",
    "data_directory = \"data/cm/\"\n",
    "\n",
    "# Then decide whether you'd like to save the plots \n",
    "# These are saved in \"images/dfa\"\n",
    "save_image = True\n",
    "\n",
    "# Set the file name for the data\n",
    "file_name = \"posture_dataset.txt\"\n",
    "file_path = os.path.join(data_directory, file_name)\n",
    "\n",
    "# Check whether the file containing the data exists\n",
    "if os.path.exists(file_path):\n",
    "    print(f'Loading file: {file_name}')\n",
    "\n",
    "    # Load the CSV file into a DataFrame\n",
    "    data = pd.read_csv(file_path, sep='\\t')\n",
    "\n",
    "    # Group by 'pair' and 'cond' and run cross-correlation between 'alpha_p1' and 'alpha_p2'\n",
    "    grouped = data.groupby(['pair', 'cond'])\n",
    "    \n",
    "    cross_corr_values = {'cond_0': [], 'cond_1': []}\n",
    "\n",
    "    # Run cross-correlation and collect values for cond 0 and 1 at lag 0\n",
    "    for (pair, cond), group in grouped:\n",
    "        alpha_p1 = group['alpha_p1']\n",
    "        alpha_p2 = group['alpha_p2']\n",
    "\n",
    "        # Run cross-correlation\n",
    "        cross_corr = np.correlate(alpha_p1 - alpha_p1.mean(), alpha_p2 - alpha_p2.mean(), mode='full')\n",
    "        cross_corr /= (len(alpha_p1) * alpha_p1.std() * alpha_p2.std())\n",
    "        lags = np.arange(-len(alpha_p1) + 1, len(alpha_p1))\n",
    "\n",
    "        # Collect cross-correlation value at lag 0\n",
    "        lag_0_index = np.where(lags == 0)[0][0]\n",
    "        lag_0_value = cross_corr[lag_0_index]\n",
    "\n",
    "        if cond == 0:\n",
    "            cross_corr_values['cond_0'].append(lag_0_value)\n",
    "        elif cond == 1:\n",
    "            cross_corr_values['cond_1'].append(lag_0_value)\n",
    "\n",
    "    # Call the plotting function from plot_utils to create a box plot\n",
    "    plot_cm_cross_cor(cross_corr_values, save_image, 'images/dfa/boxplot_cross_corr_cond_0_vs_1_lag_0.png')\n",
    "\n",
    "    print('Cross-correlation analysis at lag 0 and box plot completed successfully!')\n",
    "else:\n",
    "    print(f'File {file_name} not found in directory {data_directory}')"
   ]
  },
  {
   "cell_type": "markdown",
   "metadata": {},
   "source": [
    "##### Interpreting the Results\n",
    "\n",
    "If your code ran successfully, you should see the following correlation coefficients (at lag = 0) for each group:\n",
    "\n",
    "- Sitting (i.e., condition 0): r = .14\n",
    "- Standing (i.e., condition 1): r = .20\n",
    "\n",
    "As with the first correlation we conducted, individuals exhibited higher levels of complexity matching when standing as opposed to sitting.\n",
    "\n",
    "Here we've focused on lag zero, because this is where the maximum correlation primarily occurred in this dataset.\n"
   ]
  },
  {
   "cell_type": "markdown",
   "metadata": {},
   "source": [
    "#### Going Further\n",
    "\n",
    "To expand your understanding of complexity matching, you can try the following:\n",
    "\n",
    "1. Analyse other time series: Repeat the analyses above with other types of continuous data.\n",
    "2. Examine other cross-correlation lags: In the postural sway data above, the maximum correlation occurred at lag zero. Try applying this analysis to time series where higher levels of complexity matching might be expected at other lags (e.g., datasets with a leader/follower dynamic)."
   ]
  }
 ],
 "metadata": {
  "kernelspec": {
   "display_name": "matb",
   "language": "python",
   "name": "python3"
  },
  "language_info": {
   "codemirror_mode": {
    "name": "ipython",
    "version": 3
   },
   "file_extension": ".py",
   "mimetype": "text/x-python",
   "name": "python",
   "nbconvert_exporter": "python",
   "pygments_lexer": "ipython3",
   "version": "3.11.9"
  }
 },
 "nbformat": 4,
 "nbformat_minor": 2
}
