{
 "cells": [
  {
   "cell_type": "markdown",
   "metadata": {},
   "source": [
    "## False Nearest Neighbour Analysis\n",
    "---"
   ]
  },
  {
   "cell_type": "markdown",
   "metadata": {},
   "source": [
    "In order to conduct [Continuous RQA](rqaContinuous.ipynb) or [Categorical RQA](rqaCategorical.ipynb), we first need to determine how many dimensions best capture the dynamics in a measured behavioral time series. To do this, researchers use phase space reconstruction (PSR). Here, the time series is embedded within a phase space that is (re)constructed to be isomorphic, or at least similar, to the system’s real state space. To perform the reconstruction, two parameters are needed: the embedding dimension and the time lag."
   ]
  },
  {
   "cell_type": "markdown",
   "metadata": {},
   "source": [
    "#### Estimating the Time Lag\n",
    "\n",
    "The first step of PSR is to determine the time delay or sample interval required to unfold the temporal structure of a system’s phase space trajectory. This is typically calculated using an average mutual information (AMI) analysis. See the [AMI](ami.ipynb) section of this tutorial for information on selecting the appropriate delay."
   ]
  },
  {
   "cell_type": "markdown",
   "metadata": {},
   "source": [
    "#### Estimating the Embedding Dimension\n",
    "\n",
    "Once a time delay has been ascertained, we can then determine how many dimensions are needed to recover the system’s phase space (i.e., the embedding dimension). This can be determined using false nearest neighbors (FNN) analysis. FNN identifies the number of embedding dimensions needed to reconstruct a system’s phase space by calculating the percentage of false nearest neighbors (%FNN) for a given number of dimensions. False neighbors are states in phase space that erroneously appear near each other because too few dimensions have been used to observe the system’s dynamics. The %FNN represents the proportion of neighboring points that diverge and cease to be neighbors when another dimension is added. When all false nearest neighbors are eliminated (%FNN = 0), adding further dimensions does not provide additional information about the system’s dynamics. Therefore, the embedding dimension corresponds to the number of dimensions at which %FNN reaches zero."
   ]
  },
  {
   "cell_type": "markdown",
   "metadata": {},
   "source": [
    "#### Let's Practice FNN\n",
    "\n",
    "Before we begin, we need to import and load various packages and utilities. These will allow us to import the data, manipulate it, run FNN, and create visualizations to explore our results.\n",
    "\n",
    "The code below will do all the setup for you. Simply click the \"play\" button on the left to run the code, and we'll be ready to start our analysis. "
   ]
  },
  {
   "cell_type": "code",
   "execution_count": 2,
   "metadata": {},
   "outputs": [],
   "source": [
    "import os\n",
    "import pandas as pd\n",
    "from utils.fnn_utils import fnn, plot_fnn"
   ]
  },
  {
   "cell_type": "markdown",
   "metadata": {},
   "source": [
    "Now that all the utilities are loaded, it's time to apply FNN to some real data. We'll use the same data as in [AMI](ami.ipynb) - positional data from an individual [swinging a pendulum](data/rqaContinuous/pendulums.txt). To run FNN, we need to input the delay (in this case, 15) into our FNN function.\n",
    "\n",
    "Click the \"play\" button below to perform the analysis and generate the visualisations."
   ]
  },
  {
   "cell_type": "code",
   "execution_count": null,
   "metadata": {},
   "outputs": [],
   "source": [
    "# First set the directory path for the data\n",
    "data_directory = \"data/crqaContinuous/\"\n",
    "\n",
    "# Then decide whether you'd like to save the plots \n",
    "# These are saved in \"images/rqa\"\n",
    "save_image = True\n",
    "\n",
    "# Set the file name for the data\n",
    "file_name = \"pendulums.txt\"\n",
    "file_path = os.path.join(data_directory, file_name)\n",
    "\n",
    "# Check whether the file containing the data exists\n",
    "if os.path.exists(file_path):\n",
    "    print(f'Loading file: {file_name}')\n",
    "\n",
    "    # Load the CSV file into a DataFrame\n",
    "    data = pd.read_csv(file_path, header=None, sep='\\t')\n",
    "\n",
    "    # Select first column in data to analyse\n",
    "    continuous_data = data.iloc[:, 0]\n",
    "\n",
    "    # Compute FNN\n",
    "    fnn_ds, fnn_percent = fnn(continuous_data, 15, 1, 10)\n",
    "\n",
    "    # Plot FNN\n",
    "    plot_fnn(fnn_ds, fnn_percent)\n",
    "\n",
    "    print('FNN and plotting completed successfully!')\n",
    "else:\n",
    "    print(f'File {file_name} not found in directory {data_directory}')\n"
   ]
  },
  {
   "cell_type": "markdown",
   "metadata": {},
   "source": [
    "#### Interpreting the Results\n",
    "\n",
    "If your code ran successfully, you should see a graph in which %FNN = 0 around 3 dimensions. This number would therefore be taken as our embedding dimension."
   ]
  },
  {
   "cell_type": "markdown",
   "metadata": {},
   "source": [
    "#### Periodic vs. Other Data Types\n",
    "\n",
    "Importantly, time series that exhibit aperiodic or stochastic patterns may never return %FNN = 0. In these cases, the best practice is to select the dimension at which the %FNN levels out or first approaches a value close to zero. Let's look at a different time series: [acceleration data](data/rqaContinuous/walkerAfriend.txt) from a person walking. This data is also used in the [AMI](ami.ipynb) and [Continuous RQA](rqaContinuous.ipynb) sections. \n",
    "\n",
    "Click the \"play\" button below to perform the analysis and generate the visualisations."
   ]
  },
  {
   "cell_type": "code",
   "execution_count": null,
   "metadata": {},
   "outputs": [],
   "source": [
    "# First set the directory path for the data\n",
    "data_directory = \"data/crqaContinuous/\"\n",
    "\n",
    "# Then decide whether you'd like to save the plots \n",
    "# These are saved in \"images/rqa\"\n",
    "save_image = True\n",
    "\n",
    "# Set the file name for the data\n",
    "file_name = \"walkersABfriend.txt\"\n",
    "file_path = os.path.join(data_directory, file_name)\n",
    "\n",
    "# Check whether the file containing the data exists\n",
    "if os.path.exists(file_path):\n",
    "    print(f'Loading file: {file_name}')\n",
    "\n",
    "    # Load the CSV file into a DataFrame\n",
    "    data = pd.read_csv(file_path, header=None, sep='\\t')\n",
    "\n",
    "    # Select first column in data to analyse\n",
    "    continuous_data = data.iloc[:, 0]\n",
    "\n",
    "    # Compute FNN\n",
    "    fnn_ds, fnn_percent = fnn(continuous_data, 15, 1, 10)\n",
    "\n",
    "    # Plot FNN\n",
    "    plot_fnn(fnn_ds, fnn_percent)\n",
    "\n",
    "    print('FNN and plotting completed successfully!')\n",
    "else:\n",
    "    print(f'File {file_name} not found in directory {data_directory}')\n"
   ]
  },
  {
   "cell_type": "markdown",
   "metadata": {},
   "source": [
    "It looks as though this graph levels out around 4."
   ]
  },
  {
   "cell_type": "markdown",
   "metadata": {},
   "source": [
    "#### Going Further\n",
    "\n",
    "Once you have selected an appropriate [delay](ami.ipynb) and [embedding dimension](fnn.ipynb), it's time to run continuous RQA! Head to [Continuous RQA](rqaContinuous.ipynb) and [Continuous CRQA](crqaContinuous.ipynb) to learn how to conduct these analyses. "
   ]
  }
 ],
 "metadata": {
  "kernelspec": {
   "display_name": "lnltsanalysis",
   "language": "python",
   "name": "python3"
  },
  "language_info": {
   "codemirror_mode": {
    "name": "ipython",
    "version": 3
   },
   "file_extension": ".py",
   "mimetype": "text/x-python",
   "name": "python",
   "nbconvert_exporter": "python",
   "pygments_lexer": "ipython3",
   "version": "3.11.9"
  }
 },
 "nbformat": 4,
 "nbformat_minor": 2
}
