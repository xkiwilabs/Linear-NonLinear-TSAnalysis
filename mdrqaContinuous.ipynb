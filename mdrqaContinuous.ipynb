{
 "cells": [
  {
   "cell_type": "markdown",
   "metadata": {},
   "source": [
    "## Multidimensional Recurrence Quantification Analysis\n",
    "---"
   ]
  },
  {
   "cell_type": "markdown",
   "metadata": {},
   "source": [
    "Multidimensional Recurrence Quantification Analysis (MdRQA) is used to uncover the dynamics of multivariate behavioural time series data. This can be useful where multiple signals are collected from one or two individuals (e.g., movement and physiology), or where we wish to collect data from groups of individuals. It is performed in much the same manner as [Continuous RQA](rqaContinuous.ipynb). However, instead of performing phase space reconstruction (see [AMI](ami.ipynb) and [FNN](fnn.ipynb)), each measured variable from the multivariate time series dataset can be used as a different phase space dimension.\n",
    "\n",
    "As in other RQA techniques, various metrics are returned including:\n",
    "- Recurrence Rate (%REC): The percentage of recurrent points in the plot, which indicates how often states between the time series reoccur with one another.\n",
    "- Determinism (%DET): The percentage of recurrent points that form diagonal lines of at least a given length (e.g., 2 points), indicating how often the same sequence of states reoccurs across time series.\n",
    "- Maxline: The length of the longest diagonal sequence of recurrent points. Higher values indicate prolonged periods of recurrent behaviour.\n",
    "- Meanline: The average length of diagonal lines in the plot, giving insight into the typical duration of repeated patterns between the time series.\n",
    "- Entropy (ENT): The Shannon entropy of the distribution of diagonal line lengths, which measures the complexity of coordination between the time series.\n",
    "- Laminarity (LAM): The percentage of recurrent points forming vertical lines, which reflects instances of stationarity between the time series.\n",
    "\n",
    "#### Parameters for Running MdRQA\n",
    "\n",
    "Much like [Categorical](crqaCategorical.ipynb) and [Continuous](crqaContinuous.ipynb) CRQA, running MdRQA requires us to select three parameters. As noted above, however, time delay and embedding dimension can be set using the multivariate time series data as dimensions.\n",
    "\n",
    "- Time delay: This represents the interval between samples required to unfold the temporal structure of a system's trajectory. The appropriate delay helps to reconstruct the system’s dynamics in the phase space. \n",
    "- Embedding dimension: This is the number of dimensions needed to recover the system's phase space.\n",
    "- Radius: This defines how close two states must be to be considered recurrent. For continuous data, the radius is a threshold based on a distance metric (e.g., Euclidean distance), ensuring that nearby—but not necessarily identical—states are considered recurrent.\n"
   ]
  },
  {
   "cell_type": "markdown",
   "metadata": {},
   "source": [
    "#### Let's Practice Running MdRQA\n",
    "\n",
    "Before we begin, we need to import and load various packages and utilities. These will allow us to import the data, manipulate it, run MdRQA, and create visualisations to explore our results.\n",
    "\n",
    "The code below will do all the setup for you. Simply click the \"play\" button on the left to run the code, and we'll be ready to start our analysis. "
   ]
  },
  {
   "cell_type": "code",
   "execution_count": null,
   "metadata": {},
   "outputs": [],
   "source": [
    "import os\n",
    "import pandas as pd\n",
    "from utils import filter_data, interpolate_missing_data\n",
    "from utils.rqa_utils import perform_mrqa\n",
    "from utils.plot_utils import plot_ts_and_mdrqa"
   ]
  },
  {
   "cell_type": "markdown",
   "metadata": {},
   "source": [
    "Now that all the utilities are loaded, it's time to apply MdRQA to some real data — in this case, positional data from four people performing an [object movement task](data/mdrqa/object_move_real.txt).\n",
    "\n",
    "Just click the \"play\" button below to perform the analysis and generate the visualisations."
   ]
  },
  {
   "cell_type": "code",
   "execution_count": null,
   "metadata": {},
   "outputs": [],
   "source": [
    "# First set the directory path for the data\n",
    "data_directory = \"data/mdrqa/\"\n",
    "\n",
    "# Then decide whether you'd like to save the plots \n",
    "# These are saved in \"images/rqa\"\n",
    "save_image = True\n",
    "\n",
    "# Set the file name for the data\n",
    "file_name = \"object_move_real.txt\"\n",
    "file_path = os.path.join(data_directory, file_name)\n",
    "\n",
    "# RQA parameters\n",
    "mdrqa_params = {\n",
    "    'radius': 0.3,\n",
    "    'minLine': 2,\n",
    "    'getRP': True\n",
    "}\n",
    "\n",
    "# Check whether the file containing the data exists\n",
    "if os.path.exists(file_path):\n",
    "    print(f'Loading file: {file_name}')\n",
    "\n",
    "    # Load the CSV file into a DataFrame\n",
    "    data = pd.read_csv(file_path, header=None)\n",
    "\n",
    "    # Convert all columns to numeric type to allow interpolation\n",
    "    data = data.apply(pd.to_numeric, errors='coerce')\n",
    "\n",
    "    # Interpolate any missing data that might be present in the file\n",
    "    data = interpolate_missing_data(data)\n",
    "\n",
    "    # Apply a filter to the data\n",
    "    data = filter_data(data)\n",
    "    \n",
    "    # Normalise the data by using a z-score\n",
    "    data = (data - data.mean()) / data.std()\n",
    "\n",
    "    # Perform CRQA using perform_rqa function from rqa_utils\n",
    "    mdrqa_results, rp_results = perform_mrqa(data, **mdrqa_params)\n",
    "\n",
    "    # Create RQA metrics dictionary\n",
    "    mdrqa_metrics = {\n",
    "        'Recurrence Rate': mdrqa_results.recurrence_rate,\n",
    "        'Determinism': mdrqa_results.determinism,\n",
    "        'Maxline': mdrqa_results.longest_diagonal_line,\n",
    "        'Meanline': mdrqa_results.average_diagonal_line,\n",
    "        'Entropy': mdrqa_results.entropy_diagonal_lines,\n",
    "        'Laminarity': mdrqa_results.laminarity,\n",
    "    }\n",
    "\n",
    "    # Plot time series and recurrence plot side-by-side\n",
    "    plot_ts_and_mdrqa(data, rp_results.recurrence_matrix, mdrqa_metrics, save_image, f'images/rqa/{file_name}_combined_plot.png')\n",
    "\n",
    "    print('MdRQA analysis and plotting completed successfully!')\n",
    "else:\n",
    "    print(f'File {file_name} not found in directory {data_directory}')\n"
   ]
  },
  {
   "cell_type": "markdown",
   "metadata": {},
   "source": [
    "#### Interpreting the Results\n",
    "\n",
    "If your code ran successfully, you should see the following RQA metrics for the data:\n",
    "\n",
    "- %REC: .2% - This value tells us how often the participants' positional data returns to similar states at the same time. Higher recurrence values indicate more coordination between the participants.\n",
    "- %DET: 99.1% - This represents the proportion of recurrence points that form diagonal lines, reflecting the predictability of the participants' coordinated movement patterns.\n",
    "- Maxline: 8489 - This metric identifies the longest sequence of recurring acceleration patterns between the four participants. A higher value here suggests that they exhibited more stable patterns of coordinated activity.\n",
    "- Meanline: 11.9 - This is the average length of diagonal lines in the recurrence plot, giving us insight into the typical duration for which the participants' movements remained similar.\n",
    "\n",
    "The participants also performed the object movement task alone. Let's compare the data from the group trial to a pseudo trial. That is, let's combine the time series from the individual trials so that we can compare the group trial to a baseline."
   ]
  },
  {
   "cell_type": "code",
   "execution_count": null,
   "metadata": {},
   "outputs": [],
   "source": [
    "# First set the directory path for the data\n",
    "data_directory = \"data/mdrqa/\"\n",
    "\n",
    "# Then decide whether you'd like to save the plots \n",
    "# These are saved in \"images/rqa\"\n",
    "save_image = True\n",
    "\n",
    "# Set the file name for the data\n",
    "file_name = \"object_move_pseudo.txt\"\n",
    "file_path = os.path.join(data_directory, file_name)\n",
    "\n",
    "# RQA parameters\n",
    "mdrqa_params = {\n",
    "    'radius': 0.3,\n",
    "    'minLine': 5,\n",
    "    'getRP': True\n",
    "}\n",
    "\n",
    "# Check whether the file containing the data exists\n",
    "if os.path.exists(file_path):\n",
    "    print(f'Loading file: {file_name}')\n",
    "\n",
    "    # Load the CSV file into a DataFrame\n",
    "    data = pd.read_csv(file_path, header=None, sep='\\t')\n",
    "\n",
    "    # Convert all columns to numeric dtype to allow interpolation\n",
    "    data = data.apply(pd.to_numeric, errors='coerce')\n",
    "\n",
    "    # Interpolate any missing data that might be present in the file\n",
    "    data = interpolate_missing_data(data)\n",
    "\n",
    "    # Apply a filter to the data\n",
    "    data = filter_data(data)\n",
    "    \n",
    "    # Normalise the data by using a z-score\n",
    "    data = (data - data.mean()) / data.std()\n",
    "\n",
    "    # Perform CRQA using perform_rqa function from rqa_utils\n",
    "    mdrqa_results, rp_results = perform_mrqa(data, **mdrqa_params)\n",
    "\n",
    "    # Create RQA metrics dictionary\n",
    "    mdrqa_metrics = {\n",
    "        'Recurrence Rate': mdrqa_results.recurrence_rate,\n",
    "        'Determinism': mdrqa_results.determinism,\n",
    "        'Maxline': mdrqa_results.longest_diagonal_line,\n",
    "        'Meanline': mdrqa_results.average_diagonal_line,\n",
    "        'Entropy': mdrqa_results.entropy_diagonal_lines,\n",
    "        'Laminarity': mdrqa_results.laminarity,\n",
    "    }\n",
    "\n",
    "    # Plot time series and recurrence plot side-by-side\n",
    "    plot_ts_and_mdrqa(data, rp_results.recurrence_matrix, mdrqa_metrics, save_image, f'images/rqa/{file_name}_combined_plot.png')\n",
    "\n",
    "    print('MdRQA analysis and plotting completed successfully!')\n",
    "else:\n",
    "    print(f'File {file_name} not found in directory {data_directory}')\n"
   ]
  },
  {
   "cell_type": "markdown",
   "metadata": {},
   "source": [
    "#### Comparing the Results\n",
    "\n",
    "If you examine the recurrence plots (RPs) and the resulting RQA metrics, you'll notice that although the pseudo trial shows a similar recurrence rate (.2%), the rest of the RQA metrics are lower. This indicates less predictability (%DET) and less stable coordination (MaxLine) in the pseudo trial."
   ]
  },
  {
   "cell_type": "markdown",
   "metadata": {},
   "source": [
    "#### Going Further\n",
    "\n",
    "To expand your understanding of MdRQA, you can try the following:\n",
    "\n",
    "1. Analyse other time series: Repeat the analyses above with other types of data such as [multimodal (heart rate variability and postural movement) data](data/mdrqa/posture_hrv.txt).\n",
    "2. Experiment with other radii: Try adjusting the radii to see how this impacts the recurrence plots and MdRQA metrics.\n",
    "3. Run a windowed MdRQA: To assess how recurrence patterns change over time, explore [Windowed RQA](rqaWindowed.ipynb) which walks you through performing windowed RQA and CRQA. Although the windowed tutorial doesn't contain MdRQA, the code can be updated for those who wish to challenge themselves!"
   ]
  }
 ],
 "metadata": {
  "kernelspec": {
   "display_name": "matb",
   "language": "python",
   "name": "python3"
  },
  "language_info": {
   "codemirror_mode": {
    "name": "ipython",
    "version": 3
   },
   "file_extension": ".py",
   "mimetype": "text/x-python",
   "name": "python",
   "nbconvert_exporter": "python",
   "pygments_lexer": "ipython3",
   "version": "3.11.9"
  }
 },
 "nbformat": 4,
 "nbformat_minor": 2
}
