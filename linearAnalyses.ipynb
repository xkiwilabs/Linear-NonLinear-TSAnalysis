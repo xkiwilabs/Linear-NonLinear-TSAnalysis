{
 "cells": [
  {
   "cell_type": "markdown",
   "metadata": {},
   "source": [
    "## Linear Analyses\n",
    "---"
   ]
  },
  {
   "cell_type": "markdown",
   "metadata": {},
   "source": [
    "There are a range of linear metrics available for analysing time series data, particularly when the captured behavioural time series is continuous (rather than discrete) and includes highly regular, periodic, and stationary dynamics. \n",
    "\n",
    "These linear metrics include:\n",
    "- Capturing amplitude or period\n",
    "- Spectral analysis and cross-spectral coherence\n",
    "- Auto and cross-correlation\n",
    "- Relative phase analysis"
   ]
  },
  {
   "cell_type": "markdown",
   "metadata": {},
   "source": [
    "#### Let's Practice Running Some Linear Analyses\n",
    "\n",
    "Before we begin, we need to import and load various packages and utilities. These will allow us to import the data, manipulate it, run MdRQA, and create visualisations to explore our results.\n",
    "\n",
    "The code below will do all the setup for you. Simply click the \"play\" button on the left to run the code, and we'll be ready to start our analyses. "
   ]
  },
  {
   "cell_type": "code",
   "execution_count": 1,
   "metadata": {},
   "outputs": [],
   "source": [
    "import os\n",
    "import pandas as pd\n",
    "from utils import filter_data, interpolate_missing_data\n",
    "from utils.corr_utils import auto_correlation, cross_correlation, plot_autocorrelation, plot_crosscorrelation\n",
    "from utils.period_amplitude_utils import period, amplitude, plot_period, plot_amplitude\n",
    "from utils.coherence_utils import cross_spectral_coherence, plot_coherence, plot_spectral_analysis\n",
    "from utils.relative_phase_utils import irp, drp, plot_irp, plot_drp, plot_rp_distribution, return_plot"
   ]
  },
  {
   "cell_type": "markdown",
   "metadata": {},
   "source": [
    "Now that all the utilities are loaded, let's select some real data to use — in this case, positional data from two people [swinging pendulums](data/linearAnalyses/pendulums.txt).\n",
    "\n",
    "Just click the \"play\" button below to load in and clean the data."
   ]
  },
  {
   "cell_type": "code",
   "execution_count": 2,
   "metadata": {},
   "outputs": [],
   "source": [
    "# Load data from csv file\n",
    "data = pd.read_csv(os.path.join('data/linearAnalyses', 'pendulums.txt'), sep='\\t', header=None)\n",
    "\n",
    "# Convert all columns to numeric type to allow interpolation\n",
    "data = data.apply(pd.to_numeric, errors='coerce')\n",
    "\n",
    "# Interpolate any missing data that might be present in the file\n",
    "data = interpolate_missing_data(data)\n",
    "\n",
    "# Apply a filter to the data\n",
    "data = filter_data(data)\n",
    "\n",
    "# Normalise the data by using a z-score\n",
    "data = (data - data.mean()) / data.std()\n"
   ]
  },
  {
   "cell_type": "markdown",
   "metadata": {},
   "source": [
    "##### Mean Period and Amplitude\n",
    "\n",
    "Let's start by calculating the mean period and amplitude of each pendulum. To do this, you'll need to set the sample rate, as well as the minimum peak distance (as a fraction of the sample rate) and the minimum peak height (as a fraction of the maximum value). For the current data these have been set to:\n",
    "- Sample rate = 120\n",
    "- Minimum peak distance - 0.3\n",
    "- Minimum peak height - 0.1\n",
    "\n",
    "Let's calculate the mean period for each person:"
   ]
  },
  {
   "cell_type": "code",
   "execution_count": null,
   "metadata": {},
   "outputs": [],
   "source": [
    "# Calculates mean and SD period\n",
    "## participant 1\n",
    "meanPeriod, sdPeriod, peaks, pkLocs = period(data.iloc[:, 0], samplerate=120, DistFLT=0.3, AmpFLT=0.1)\n",
    "print(f'Participant 1: \\nMean period: {meanPeriod}')\n",
    "print(f'Standard deviation period: {sdPeriod}')\n",
    "plot_period(data.iloc[:, 0], 120, peaks, pkLocs)\n",
    "\n",
    "## participant 2\n",
    "meanPeriod, sdPeriod, peaks, pkLocs = period(data.iloc[:, 1], samplerate=120, DistFLT=0.3, AmpFLT=0.1)\n",
    "print(f'Participant 2: \\nMean period: {meanPeriod}')\n",
    "print(f'Standard deviation period: {sdPeriod}')\n",
    "plot_period(data.iloc[:, 1], 120, peaks, pkLocs)"
   ]
  },
  {
   "cell_type": "markdown",
   "metadata": {},
   "source": [
    "##### Interpreting the Results\n",
    "\n",
    "If your code ran successfully, you should see that each participant shows a similar mean and standard deviation of period (M = 0.4, SD = 0.01). You should also see a graph for each participant with the peaks highlighted.  \n",
    "\n",
    "Now let's calculate the mean amplitude:"
   ]
  },
  {
   "cell_type": "code",
   "execution_count": null,
   "metadata": {},
   "outputs": [],
   "source": [
    "# Calculates mean and SD amplitude\n",
    "## participant 1\n",
    "meanAmp, sdAmp, peaks, pkLocs, valleys, vLocs = amplitude(data.iloc[:, 0], samplerate=120, DistFLT=0.3, AmpFLT=0.1)\n",
    "print(f'Participant 1: \\nMean amplitude: {meanAmp}')\n",
    "print(f'Standard deviation amplitude: {sdAmp}')\n",
    "plot_amplitude(data.iloc[:, 0], 120, peaks, pkLocs, valleys, vLocs)\n",
    "\n",
    "## participant 2\n",
    "meanAmp, sdAmp, peaks, pkLocs, valleys, vLocs = amplitude(data.iloc[:, 1], samplerate=120, DistFLT=0.3, AmpFLT=0.1)\n",
    "print(f'Participant 2: \\nMean amplitude: {meanAmp}')\n",
    "print(f'Standard deviation amplitude: {sdAmp}')\n",
    "plot_amplitude(data.iloc[:, 1], 120, peaks, pkLocs, valleys, vLocs)"
   ]
  },
  {
   "cell_type": "markdown",
   "metadata": {},
   "source": [
    "##### Interpreting the Results\n",
    "\n",
    "If your code ran successfully, you should see that each participant shows a similar mean and standard deviation of amplitude (M = 1.4, SD = 0.1). You should also see a graph for each participant with the peaks and valleys highlighted.  "
   ]
  },
  {
   "cell_type": "markdown",
   "metadata": {},
   "source": [
    "##### Spectral Analysis and Cross Spectral Coherence"
   ]
  },
  {
   "cell_type": "code",
   "execution_count": null,
   "metadata": {},
   "outputs": [],
   "source": [
    "samplerate = 120\n",
    "window_size = 256\n",
    "window_overlap = 0.5\n",
    "\n",
    "# Perform cross-spectral coherence analysis\n",
    "cohere_stats, FP1, FP2, cohereFP = cross_spectral_coherence(data.iloc[:, 0], data.iloc[:, 1], samplerate, window_size, window_overlap)\n",
    "\n",
    "# Print average coherence\n",
    "print(f'Average Coherence (across spectrum): {cohere_stats[0]}')\n",
    "print(f' Coherence (peak ts1): {cohere_stats[1]}')\n",
    "print(f' Coherence (peak ts2): {cohere_stats[2]}')\n",
    "print(f' Coherence (peak freq average): {cohere_stats[3]}')\n",
    "\n",
    "# Plot the power spectral densities and coherence\n",
    "plot_spectral_analysis(FP1, maxFreq=10)\n",
    "plot_spectral_analysis(FP2, maxFreq=10)\n",
    "plot_coherence(cohereFP, maxFreq=10)"
   ]
  },
  {
   "cell_type": "markdown",
   "metadata": {},
   "source": [
    "##### Auto and Cross-Correlation"
   ]
  },
  {
   "cell_type": "code",
   "execution_count": null,
   "metadata": {},
   "outputs": [],
   "source": [
    "# Calculate auto-correlation for each participant\n",
    "lags_x, corr_x = auto_correlation(data.iloc[:, 0], 120)\n",
    "plot_autocorrelation(lags_x, corr_x)\n",
    "\n",
    "# Calculate auto-correlation for each participant\n",
    "lags_x, corr_x = auto_correlation(data.iloc[:, 1], 120)\n",
    "plot_autocorrelation(lags_x, corr_x)\n",
    "\n",
    "# Calculate cross-correlation between participants\n",
    "cross_loags, cross_corr = cross_correlation(data.iloc[:, 0], data.iloc[:, 1], 120)\n",
    "plot_crosscorrelation(cross_loags, cross_corr)"
   ]
  },
  {
   "cell_type": "markdown",
   "metadata": {},
   "source": [
    "##### Relative Phase"
   ]
  },
  {
   "cell_type": "code",
   "execution_count": null,
   "metadata": {},
   "outputs": [],
   "source": [
    "samplerate = 120  # 100 Hz sampling rate\n",
    "\n",
    "# Perform relative phase analysis and plot results\n",
    "meanRP, sdRP, rvRP, radians = irp(data.iloc[:, 0], data.iloc[:, 1])\n",
    "print(f'RP: mean = {meanRP}  sd = {sdRP}   rho = {rvRP}')\n",
    "plot_irp(radians, samplerate)\n",
    "plot_rp_distribution(radians)\n",
    "\n",
    "meanRP, sdRP, rvRP, radians, peaks = drp(data.iloc[:, 0], data.iloc[:, 1], samplerate)\n",
    "print(f'RP: mean = {meanRP}  sd = {sdRP}   rho = {rvRP}')\n",
    "plot_drp(radians, peaks, samplerate)\n",
    "plot_rp_distribution(radians, samplerate) \n",
    "\n",
    "#return_plot(data.iloc[:, 0], data.iloc[:, 1], samplerate)"
   ]
  }
 ],
 "metadata": {
  "kernelspec": {
   "display_name": "lnltsanalysis",
   "language": "python",
   "name": "python3"
  },
  "language_info": {
   "codemirror_mode": {
    "name": "ipython",
    "version": 3
   },
   "file_extension": ".py",
   "mimetype": "text/x-python",
   "name": "python",
   "nbconvert_exporter": "python",
   "pygments_lexer": "ipython3",
   "version": "3.11.9"
  }
 },
 "nbformat": 4,
 "nbformat_minor": 2
}
